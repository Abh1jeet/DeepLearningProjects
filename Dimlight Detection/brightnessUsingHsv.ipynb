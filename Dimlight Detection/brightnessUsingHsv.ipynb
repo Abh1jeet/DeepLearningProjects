{
 "cells": [
  {
   "cell_type": "code",
   "execution_count": 1,
   "id": "3e8fe779",
   "metadata": {},
   "outputs": [],
   "source": [
    "# The Image Brightness Detection.\n",
    "#\n",
    "# References:\n",
    "# http://alienryderflex.com/hsp.html\n",
    "# https://www.whydomath.org/node/wavlets/imagebasics.html\n",
    "#\n",
    "# We say the above formula for y is a convex combination of r', g',\n",
    "# and b' since the multipliers .299, .587, and .114 are non-negative and sum to one. Actually, this is exactly the\n",
    "# formula suggested by the National Television System Committee (NTSC) for converting color feeds to black and white\n",
    "# televisions sets.\n",
    "#\n",
    "# Notes:\n",
    "# Develop a generalized algorithm to detect the brightness of any image. Your algorithm should take an image\n",
    "# as input and give a score between (0-10) as output (zero being low bright and 10 being high bright).\n",
    "#\n",
    "#\n",
    "# See the README file for information on usage.\n",
    "\n",
    "import math\n",
    "import sys\n",
    "from pathlib import Path\n",
    "import argparse\n",
    "\n",
    "import numpy as np\n",
    "from PIL import Image, ImageStat"
   ]
  },
  {
   "cell_type": "code",
   "execution_count": 2,
   "id": "5e2364f6",
   "metadata": {},
   "outputs": [],
   "source": [
    "def create_arg_parser():\n",
    "    \"\"\"\"\n",
    "    Creates and returns the ArgumentParser object.\n",
    "    \"\"\"\n",
    "    parser = argparse.ArgumentParser(description='Calculates image brightness on scale of 1 to 10.')\n",
    "    parser.add_argument(\"--input_path\", type=Path, help=\"Input image path\")\n",
    "    return parser"
   ]
  },
  {
   "cell_type": "code",
   "execution_count": 7,
   "id": "a9bd6a26",
   "metadata": {},
   "outputs": [],
   "source": [
    "class ImageBrightnessDetect(object):\n",
    "    \"\"\"\n",
    "    Input: Input RGB image file path\n",
    "    Output: Level of brightness 1 to 10 (0 being low and 10 being the brightest)\n",
    "    \"\"\"\n",
    "\n",
    "    def __init__(self, image_path):\n",
    "        self.__image_path = image_path\n",
    "\n",
    "    def classify(self):\n",
    "        # File existence check\n",
    "        my_file = Path(self.__image_path)\n",
    "        if my_file.is_file():\n",
    "            image = Image.open(self.__image_path)\n",
    "            image.resize((1280, 720), Image.ANTIALIAS)\n",
    "            return self.__calculate_level(image)\n",
    "        else:\n",
    "            return \"File does not exist\"\n",
    "\n",
    "    @staticmethod\n",
    "    def __calculate_level(image):\n",
    "        # Creating bins for 10 levels between 0 to 255\n",
    "        levels = np.linspace(0, 255, num=10)\n",
    "\n",
    "        # Get average pixel level for each layer\n",
    "        image_stats = ImageStat.Stat(image)\n",
    "        red_channel_mean, green_channel_mean, blue_channel_mean = image_stats.mean\n",
    "\n",
    "        # The three constants (.299, .587, and .114) represent the different degrees to which each of the primary (RGB)\n",
    "        # colors affects human perception of the overall brightness of a color.  Notice that they sum to 1.\n",
    "\n",
    "        image_bright_value = math.sqrt(0.299 * (red_channel_mean ** 2)\n",
    "                                       + 0.587 * (green_channel_mean ** 2)\n",
    "                                       + 0.114 * (blue_channel_mean ** 2))\n",
    "\n",
    "        image_bright_level = np.digitize(image_bright_value, levels, right=True)\n",
    "\n",
    "        return image_bright_value,image_bright_level\n"
   ]
  },
  {
   "cell_type": "code",
   "execution_count": 8,
   "id": "9a0f9eba",
   "metadata": {},
   "outputs": [
    {
     "name": "stdout",
     "output_type": "stream",
     "text": [
      "149.1975805882349\n",
      "6\n"
     ]
    }
   ],
   "source": [
    "#arg_parser = create_arg_parser()\n",
    "#parsed_args = arg_parser.parse_args(sys.argv[1:])\n",
    "imagePath=\"Bright3.jpg\"\n",
    "actual_Value, Score = ImageBrightnessDetect(imagePath).classify()\n",
    "print(actual_Value)\n",
    "print(Score)"
   ]
  },
  {
   "cell_type": "code",
   "execution_count": 9,
   "id": "1a1516d6",
   "metadata": {},
   "outputs": [
    {
     "data": {
      "text/plain": [
       "array([  0.        ,  28.33333333,  56.66666667,  85.        ,\n",
       "       113.33333333, 141.66666667, 170.        , 198.33333333,\n",
       "       226.66666667, 255.        ])"
      ]
     },
     "execution_count": 9,
     "metadata": {},
     "output_type": "execute_result"
    }
   ],
   "source": [
    "levels = np.linspace(0, 255, num=10)\n",
    "levels"
   ]
  },
  {
   "cell_type": "code",
   "execution_count": null,
   "id": "6332944e",
   "metadata": {},
   "outputs": [],
   "source": []
  }
 ],
 "metadata": {
  "kernelspec": {
   "display_name": "Python 3",
   "language": "python",
   "name": "python3"
  },
  "language_info": {
   "codemirror_mode": {
    "name": "ipython",
    "version": 3
   },
   "file_extension": ".py",
   "mimetype": "text/x-python",
   "name": "python",
   "nbconvert_exporter": "python",
   "pygments_lexer": "ipython3",
   "version": "3.6.13"
  }
 },
 "nbformat": 4,
 "nbformat_minor": 5
}
